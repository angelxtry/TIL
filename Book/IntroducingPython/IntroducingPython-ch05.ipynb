{
 "cells": [
  {
   "cell_type": "code",
   "execution_count": 1,
   "metadata": {},
   "outputs": [
    {
     "name": "stdout",
     "output_type": "stream",
     "text": [
      "('A', 'a')\n",
      "('B', 'b')\n"
     ]
    }
   ],
   "source": [
    "from collections import defaultdict\n",
    "\n",
    "def default_value():\n",
    "    return 'Default_Value'\n",
    "\n",
    "dic_sample = defaultdict(default_value)\n",
    "dic_sample['A'] = 'a'\n",
    "dic_sample['B'] = 'b'\n",
    "\n",
    "for item in dic_sample.items():\n",
    "    print(item)"
   ]
  },
  {
   "cell_type": "code",
   "execution_count": 2,
   "metadata": {},
   "outputs": [
    {
     "data": {
      "text/plain": [
       "'Default_Value'"
      ]
     },
     "execution_count": 2,
     "metadata": {},
     "output_type": "execute_result"
    }
   ],
   "source": [
    "dic_sample['C']"
   ]
  },
  {
   "cell_type": "code",
   "execution_count": 3,
   "metadata": {},
   "outputs": [
    {
     "name": "stdout",
     "output_type": "stream",
     "text": [
      "('A', 'a')\n",
      "('B', 'b')\n",
      "('C', 'Default_Value')\n"
     ]
    }
   ],
   "source": [
    "for item in dic_sample.items():\n",
    "    print(item)"
   ]
  },
  {
   "cell_type": "code",
   "execution_count": 5,
   "metadata": {},
   "outputs": [
    {
     "name": "stdout",
     "output_type": "stream",
     "text": [
      "a 1\n",
      "b 2\n",
      "c 2\n"
     ]
    }
   ],
   "source": [
    "from collections import defaultdict\n",
    "\n",
    "item_counter = defaultdict(int)\n",
    "for item in ['a', 'b', 'c', 'b', 'c']:\n",
    "    item_counter[item] += 1;\n",
    "    \n",
    "for key, value in item_counter.items():\n",
    "    print(key, value)"
   ]
  },
  {
   "cell_type": "code",
   "execution_count": 8,
   "metadata": {},
   "outputs": [
    {
     "name": "stdout",
     "output_type": "stream",
     "text": [
      "a 1\n",
      "b 2\n",
      "c 2\n"
     ]
    }
   ],
   "source": [
    "item_counter = {}\n",
    "for item in ['a', 'b', 'c', 'b', 'c']:\n",
    "    if item in item_counter.keys():\n",
    "        item_counter[item] += 1  \n",
    "    else:\n",
    "        item_counter[item] = 1\n",
    "\n",
    "for key, value in item_counter.items():\n",
    "    print(key, value)"
   ]
  },
  {
   "cell_type": "code",
   "execution_count": 11,
   "metadata": {},
   "outputs": [
    {
     "name": "stdout",
     "output_type": "stream",
     "text": [
      "dict_items([('a', 2), ('b', 2), ('c', 1)])\n"
     ]
    }
   ],
   "source": [
    "item_counter = {}\n",
    "for item in ['a', 'b', 'c', 'a', 'b']:\n",
    "    if item not in item_counter.keys():\n",
    "        item_counter[item] = 0\n",
    "    item_counter[item] += 1\n",
    "\n",
    "print(item_counter.items())"
   ]
  },
  {
   "cell_type": "code",
   "execution_count": null,
   "metadata": {},
   "outputs": [],
   "source": []
  }
 ],
 "metadata": {
  "kernelspec": {
   "display_name": "Python 3",
   "language": "python",
   "name": "python3"
  },
  "language_info": {
   "codemirror_mode": {
    "name": "ipython",
    "version": 3
   },
   "file_extension": ".py",
   "mimetype": "text/x-python",
   "name": "python",
   "nbconvert_exporter": "python",
   "pygments_lexer": "ipython3",
   "version": "3.6.4"
  }
 },
 "nbformat": 4,
 "nbformat_minor": 2
}
