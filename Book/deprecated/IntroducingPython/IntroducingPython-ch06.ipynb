{
 "cells": [
  {
   "cell_type": "code",
   "execution_count": 2,
   "metadata": {},
   "outputs": [
    {
     "name": "stdout",
     "output_type": "stream",
     "text": [
      "<class '__main__.Thing'>\n",
      "<__main__.Thing object at 0x04A9B990>\n"
     ]
    }
   ],
   "source": [
    "# 6.1\n",
    "class Thing:\n",
    "    pass\n",
    "\n",
    "example = Thing()\n",
    "\n",
    "print(Thing)\n",
    "print(example)"
   ]
  },
  {
   "cell_type": "code",
   "execution_count": 5,
   "metadata": {},
   "outputs": [
    {
     "name": "stdout",
     "output_type": "stream",
     "text": [
      "abc\n"
     ]
    }
   ],
   "source": [
    "class Thing2:\n",
    "    letters = 'abc'\n",
    "        \n",
    "\n",
    "print(Thing2.letters)"
   ]
  },
  {
   "cell_type": "code",
   "execution_count": 9,
   "metadata": {},
   "outputs": [
    {
     "name": "stdout",
     "output_type": "stream",
     "text": [
      "xyz\n"
     ]
    }
   ],
   "source": [
    "class Thing3:\n",
    "    def __init__(self):\n",
    "        self.letters = 'xyz'\n",
    "        \n",
    "example = Thing3()\n",
    "print(example.letters)"
   ]
  },
  {
   "cell_type": "code",
   "execution_count": 18,
   "metadata": {},
   "outputs": [
    {
     "name": "stdout",
     "output_type": "stream",
     "text": [
      "Hydrogen, H, 1\n",
      "Hydrogen, H, 1\n"
     ]
    }
   ],
   "source": [
    "# 6.4\n",
    "class Element:\n",
    "    def __init__(self, name, symbol, number):\n",
    "        self.name = name\n",
    "        self.symbol = symbol\n",
    "        self.number = number\n",
    "        \n",
    "    def dump(self):\n",
    "        print('{}, {}, {}'.format(self.name, self.symbol, self.number))\n",
    "\n",
    "    def __str__(self):\n",
    "        return '{}, {}, {}'.format(self.name, self.symbol, self.number)\n",
    "        \n",
    "el = Element('Hydrogen', 'H', 1)\n",
    "el.dump()\n",
    "print(el)"
   ]
  },
  {
   "cell_type": "code",
   "execution_count": 19,
   "metadata": {},
   "outputs": [
    {
     "name": "stdout",
     "output_type": "stream",
     "text": [
      "Hydrogen, H, 1\n",
      "Hydrogen, H, 1\n"
     ]
    }
   ],
   "source": [
    "el_dict = {'name': 'Hydrogen',\n",
    "           'symbol': 'H',\n",
    "           'number': 1}\n",
    "\n",
    "hydrogen = Element(*el_dict.values())\n",
    "hydrogen.dump()\n",
    "print(hydrogen)"
   ]
  },
  {
   "cell_type": "code",
   "execution_count": 20,
   "metadata": {},
   "outputs": [
    {
     "name": "stdout",
     "output_type": "stream",
     "text": [
      "Hydrogen H 1\n"
     ]
    }
   ],
   "source": [
    "# 6.8\n",
    "class Element2:\n",
    "    def __init__(self, name, symbol, number):\n",
    "        self.__name = name\n",
    "        self.__symbol = symbol\n",
    "        self.__number = number\n",
    "        \n",
    "    @property\n",
    "    def name(self):\n",
    "        return self.__name\n",
    "    \n",
    "    @property\n",
    "    def symbol(self):\n",
    "        return self.__symbol\n",
    "    \n",
    "    @property\n",
    "    def number(self):\n",
    "        return self.__number\n",
    "    \n",
    "hydrogen = Element2(*el_dict.values())\n",
    "print('{} {} {}'.format(hydrogen.name, hydrogen.symbol, hydrogen.number))"
   ]
  },
  {
   "cell_type": "code",
   "execution_count": 22,
   "metadata": {},
   "outputs": [
    {
     "name": "stdout",
     "output_type": "stream",
     "text": [
      "berries\n",
      "clover\n",
      "campers\n"
     ]
    }
   ],
   "source": [
    "# 6.9\n",
    "class Bear:\n",
    "    def eats(self):\n",
    "        return 'berries'\n",
    "    \n",
    "class Rabbit:\n",
    "    def eats(self):\n",
    "        return 'clover'\n",
    "    \n",
    "class Octothorpe:\n",
    "    def eats(self):\n",
    "        return 'campers'\n",
    "    \n",
    "bear = Bear()\n",
    "rabbit = Rabbit()\n",
    "octo = Octothorpe()\n",
    "\n",
    "def print_eats(obj):\n",
    "    print(obj.eats())\n",
    "    \n",
    "print_eats(bear)\n",
    "print_eats(rabbit)\n",
    "print_eats(octo)"
   ]
  },
  {
   "cell_type": "code",
   "execution_count": 23,
   "metadata": {},
   "outputs": [
    {
     "name": "stdout",
     "output_type": "stream",
     "text": [
      "disintergrate crush ring\n"
     ]
    }
   ],
   "source": [
    "class Laser:\n",
    "    def does(self):\n",
    "        return 'disintergrate'\n",
    "\n",
    "class Claw:\n",
    "    def does(self):\n",
    "        return 'crush'\n",
    "    \n",
    "class SmartPhone:\n",
    "    def does(self):\n",
    "        return 'ring'\n",
    "    \n",
    "class Robot:\n",
    "    def __init__(self, laser, claw, sp):\n",
    "        self.laser = laser\n",
    "        self.claw = claw\n",
    "        self.smart_phone = sp\n",
    "        \n",
    "    def does(self):\n",
    "        print('{} {} {}'.format(self.laser.does(),\n",
    "                                self.claw.does(),\n",
    "                                self.smart_phone.does()))\n",
    "\n",
    "laser = Laser()\n",
    "claw = Claw()\n",
    "sp = SmartPhone()\n",
    "r = Robot(laser, claw, sp)\n",
    "r.does()"
   ]
  },
  {
   "cell_type": "code",
   "execution_count": null,
   "metadata": {},
   "outputs": [],
   "source": []
  }
 ],
 "metadata": {
  "kernelspec": {
   "display_name": "Python 3",
   "language": "python",
   "name": "python3"
  },
  "language_info": {
   "codemirror_mode": {
    "name": "ipython",
    "version": 3
   },
   "file_extension": ".py",
   "mimetype": "text/x-python",
   "name": "python",
   "nbconvert_exporter": "python",
   "pygments_lexer": "ipython3",
   "version": "3.6.4"
  }
 },
 "nbformat": 4,
 "nbformat_minor": 2
}
